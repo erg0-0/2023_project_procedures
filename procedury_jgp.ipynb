{
 "cells": [
  {
   "cell_type": "code",
   "execution_count": 2,
   "metadata": {},
   "outputs": [],
   "source": [
    "import pandas as pd\n",
    "df = pd.read_csv(r'/Users/LILI/Projects/000_procedures/procedury.csv',delimiter=';', names=[\"rok\",\"NIP\", \"JDG\",\"ICD-9\"], index_col=False  )\n",
    "df_2021 = df[df.rok==2021]"
   ]
  },
  {
   "cell_type": "code",
   "execution_count": null,
   "metadata": {},
   "outputs": [],
   "source": [
    "df_2021.to_csv('/Users/LILI/Projects/000_procedures/2023_project_procedures/procedures_2021.csv')"
   ]
  },
  {
   "cell_type": "code",
   "execution_count": 87,
   "metadata": {},
   "outputs": [
    {
     "data": {
      "text/plain": [
       "['df_2017', 'df_2018', 'df_2019', 'df_2020', 'df_2021']"
      ]
     },
     "execution_count": 87,
     "metadata": {},
     "output_type": "execute_result"
    }
   ],
   "source": [
    "#nieudana proba zrobienia automatycznego podzialu wg lat, problem cudzyslow\n",
    "years=list(set(df.rok))\n",
    "df_names =[]\n",
    "for year in range(len(years)):\n",
    "    a = str('df_'+str(years[year]))\n",
    "    df_names.append(a)\n",
    "df_names    "
   ]
  }
 ],
 "metadata": {
  "kernelspec": {
   "display_name": "py39",
   "language": "python",
   "name": "python3"
  },
  "language_info": {
   "codemirror_mode": {
    "name": "ipython",
    "version": 3
   },
   "file_extension": ".py",
   "mimetype": "text/x-python",
   "name": "python",
   "nbconvert_exporter": "python",
   "pygments_lexer": "ipython3",
   "version": "3.9.13"
  },
  "orig_nbformat": 4,
  "vscode": {
   "interpreter": {
    "hash": "34d53bfbed14dbd3c5f5ebfb55b33377154c6d087292b3c9075ad59238d5c0bc"
   }
  }
 },
 "nbformat": 4,
 "nbformat_minor": 2
}

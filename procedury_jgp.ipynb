{
 "cells": [
  {
   "attachments": {},
   "cell_type": "markdown",
   "metadata": {},
   "source": [
    "The datasource in .csv format can be found here:\n",
    "https://dane.gov.pl/pl/dataset/3009,dane-dotyczace-hospitalizacji-rozliczonych-jgp-w-l/resource/45163/table\n",
    "\n",
    "The datasource with list of ICD-9 can be found here: https://www.nfz.gov.pl/dla-swiadczeniodawcy/slowniki/pliki-icd-9-pl/"
   ]
  },
  {
   "cell_type": "code",
   "execution_count": 2,
   "metadata": {},
   "outputs": [],
   "source": [
    "import pandas as pd\n",
    "df = pd.read_csv(r'/Users/LILI/Projects/000_procedures/procedury.csv',delimiter=';', names=[\"rok\",\"NIP\", \"JDG\",\"ICD-9\"], index_col=False  )\n",
    "df_2021 = df[df.rok==2021]"
   ]
  },
  {
   "cell_type": "code",
   "execution_count": 17,
   "metadata": {},
   "outputs": [
    {
     "name": "stdout",
     "output_type": "stream",
     "text": [
      "******************** (6022268, 4)\n"
     ]
    }
   ],
   "source": [
    "print(\"********************\",df_2021.shape)\n"
   ]
  },
  {
   "cell_type": "code",
   "execution_count": 7,
   "metadata": {},
   "outputs": [],
   "source": [
    "df_2021.to_csv('/Users/LILI/Projects/2023_project_procedures/procedures_2021_1000.csv')"
   ]
  },
  {
   "cell_type": "code",
   "execution_count": 87,
   "metadata": {},
   "outputs": [
    {
     "data": {
      "text/plain": [
       "['df_2017', 'df_2018', 'df_2019', 'df_2020', 'df_2021']"
      ]
     },
     "execution_count": 87,
     "metadata": {},
     "output_type": "execute_result"
    }
   ],
   "source": [
    "#nieudana proba zrobienia automatycznego podzialu wg lat, problem cudzyslow\n",
    "years=list(set(df.rok))\n",
    "df_names =[]\n",
    "for year in range(len(years)):\n",
    "    a = str('df_'+str(years[year]))\n",
    "    df_names.append(a)\n",
    "df_names    "
   ]
  },
  {
   "cell_type": "code",
   "execution_count": 8,
   "metadata": {},
   "outputs": [
    {
     "data": {
      "text/html": [
       "<div>\n",
       "<style scoped>\n",
       "    .dataframe tbody tr th:only-of-type {\n",
       "        vertical-align: middle;\n",
       "    }\n",
       "\n",
       "    .dataframe tbody tr th {\n",
       "        vertical-align: top;\n",
       "    }\n",
       "\n",
       "    .dataframe thead th {\n",
       "        text-align: right;\n",
       "    }\n",
       "</style>\n",
       "<table border=\"1\" class=\"dataframe\">\n",
       "  <thead>\n",
       "    <tr style=\"text-align: right;\">\n",
       "      <th></th>\n",
       "      <th>rok</th>\n",
       "      <th>NIP</th>\n",
       "      <th>JDG</th>\n",
       "      <th>ICD-9</th>\n",
       "    </tr>\n",
       "  </thead>\n",
       "  <tbody>\n",
       "    <tr>\n",
       "      <th>22511207</th>\n",
       "      <td>2021</td>\n",
       "      <td>5422529292</td>\n",
       "      <td>5.51.01.0008032</td>\n",
       "      <td>77.67</td>\n",
       "    </tr>\n",
       "    <tr>\n",
       "      <th>22511208</th>\n",
       "      <td>2021</td>\n",
       "      <td>5422529292</td>\n",
       "      <td>5.51.01.0008032</td>\n",
       "      <td>78.627</td>\n",
       "    </tr>\n",
       "    <tr>\n",
       "      <th>22511209</th>\n",
       "      <td>2021</td>\n",
       "      <td>5422529292</td>\n",
       "      <td>5.51.01.0008032</td>\n",
       "      <td>100.01</td>\n",
       "    </tr>\n",
       "    <tr>\n",
       "      <th>22511210</th>\n",
       "      <td>2021</td>\n",
       "      <td>5422534063</td>\n",
       "      <td>5.51.01.0018074</td>\n",
       "      <td>A01</td>\n",
       "    </tr>\n",
       "    <tr>\n",
       "      <th>22511211</th>\n",
       "      <td>2021</td>\n",
       "      <td>5422534063</td>\n",
       "      <td>5.51.01.0018074</td>\n",
       "      <td>N45</td>\n",
       "    </tr>\n",
       "    <tr>\n",
       "      <th>22511212</th>\n",
       "      <td>2021</td>\n",
       "      <td>5422534063</td>\n",
       "      <td>5.51.01.0018074</td>\n",
       "      <td>100.01</td>\n",
       "    </tr>\n",
       "    <tr>\n",
       "      <th>22511213</th>\n",
       "      <td>2021</td>\n",
       "      <td>5422534063</td>\n",
       "      <td>5.51.01.0018074</td>\n",
       "      <td>C53</td>\n",
       "    </tr>\n",
       "    <tr>\n",
       "      <th>22511214</th>\n",
       "      <td>2021</td>\n",
       "      <td>5422534063</td>\n",
       "      <td>5.51.01.0018074</td>\n",
       "      <td>O35</td>\n",
       "    </tr>\n",
       "    <tr>\n",
       "      <th>22511215</th>\n",
       "      <td>2021</td>\n",
       "      <td>5422534063</td>\n",
       "      <td>5.51.01.0018074</td>\n",
       "      <td>G11</td>\n",
       "    </tr>\n",
       "    <tr>\n",
       "      <th>22511216</th>\n",
       "      <td>2021</td>\n",
       "      <td>5422534063</td>\n",
       "      <td>5.51.01.0018074</td>\n",
       "      <td>V99</td>\n",
       "    </tr>\n",
       "  </tbody>\n",
       "</table>\n",
       "</div>"
      ],
      "text/plain": [
       "           rok         NIP               JDG     ICD-9\n",
       "22511207  2021  5422529292  5.51.01.0008032   77.67   \n",
       "22511208  2021  5422529292  5.51.01.0008032   78.627  \n",
       "22511209  2021  5422529292  5.51.01.0008032   100.01  \n",
       "22511210  2021  5422534063  5.51.01.0018074   A01     \n",
       "22511211  2021  5422534063  5.51.01.0018074   N45     \n",
       "22511212  2021  5422534063  5.51.01.0018074   100.01  \n",
       "22511213  2021  5422534063  5.51.01.0018074   C53     \n",
       "22511214  2021  5422534063  5.51.01.0018074   O35     \n",
       "22511215  2021  5422534063  5.51.01.0018074   G11     \n",
       "22511216  2021  5422534063  5.51.01.0018074   V99     "
      ]
     },
     "execution_count": 8,
     "metadata": {},
     "output_type": "execute_result"
    }
   ],
   "source": [
    "df_2021.head(10)\n"
   ]
  },
  {
   "cell_type": "code",
   "execution_count": 14,
   "metadata": {},
   "outputs": [
    {
     "data": {
      "text/plain": [
       "7302"
      ]
     },
     "execution_count": 14,
     "metadata": {},
     "output_type": "execute_result"
    }
   ],
   "source": [
    "len(set(df_2021['ICD-9']))"
   ]
  },
  {
   "cell_type": "code",
   "execution_count": 20,
   "metadata": {},
   "outputs": [
    {
     "data": {
      "text/plain": [
       "89.00       91914\n",
       "89.04       87826\n",
       "M37         82407\n",
       "L43         77490\n",
       "I81         77040\n",
       "O35         76137\n",
       "N45         73912\n",
       "G21         73024\n",
       "G11         71820\n",
       "87.440      71815\n",
       "N13         66672\n",
       "89.522      63296\n",
       "I17         62838\n",
       "I19         61682\n",
       "A01         61127\n",
       "C55         61007\n",
       "88.761      57596\n",
       "89.61       53792\n",
       "I89         53438\n",
       "L69         52996\n",
       "Name: ICD-9, dtype: int64"
      ]
     },
     "execution_count": 20,
     "metadata": {},
     "output_type": "execute_result"
    }
   ],
   "source": [
    "df_2021['ICD-9'].value_counts().head(20)"
   ]
  },
  {
   "attachments": {},
   "cell_type": "markdown",
   "metadata": {},
   "source": [
    "### DOWNLOAD MERGING TABLE - ICD-9 MAPPING"
   ]
  },
  {
   "cell_type": "code",
   "execution_count": 261,
   "metadata": {},
   "outputs": [
    {
     "data": {
      "text/html": [
       "<div>\n",
       "<style scoped>\n",
       "    .dataframe tbody tr th:only-of-type {\n",
       "        vertical-align: middle;\n",
       "    }\n",
       "\n",
       "    .dataframe tbody tr th {\n",
       "        vertical-align: top;\n",
       "    }\n",
       "\n",
       "    .dataframe thead th {\n",
       "        text-align: right;\n",
       "    }\n",
       "</style>\n",
       "<table border=\"1\" class=\"dataframe\">\n",
       "  <thead>\n",
       "    <tr style=\"text-align: right;\">\n",
       "      <th></th>\n",
       "      <th>nr</th>\n",
       "      <th>tytuł</th>\n",
       "      <th>nr</th>\n",
       "      <th>tytuł.1</th>\n",
       "      <th>nr.1</th>\n",
       "      <th>tytuł.2</th>\n",
       "      <th>nr.2</th>\n",
       "      <th>tytuł.3</th>\n",
       "    </tr>\n",
       "  </thead>\n",
       "  <tbody>\n",
       "    <tr>\n",
       "      <th>0</th>\n",
       "      <td>AA</td>\n",
       "      <td>Badania laboratoryjne i inne</td>\n",
       "      <td>A</td>\n",
       "      <td>Analityka</td>\n",
       "      <td>A01</td>\n",
       "      <td>Badanie ogólne moczu (profil)</td>\n",
       "      <td>NaN</td>\n",
       "      <td>NaN</td>\n",
       "    </tr>\n",
       "    <tr>\n",
       "      <th>1</th>\n",
       "      <td>AA</td>\n",
       "      <td>Badania laboratoryjne i inne</td>\n",
       "      <td>A</td>\n",
       "      <td>Analityka</td>\n",
       "      <td>A03</td>\n",
       "      <td>Badanie płynu mózgowo-rdzeniowego</td>\n",
       "      <td>NaN</td>\n",
       "      <td>NaN</td>\n",
       "    </tr>\n",
       "  </tbody>\n",
       "</table>\n",
       "</div>"
      ],
      "text/plain": [
       "  nr                          tytuł nr    tytuł.1 nr.1  \\\n",
       "0  AA  Badania laboratoryjne i inne  A  Analityka  A01   \n",
       "1  AA  Badania laboratoryjne i inne  A  Analityka  A03   \n",
       "\n",
       "                             tytuł.2 nr.2 tytuł.3  \n",
       "0      Badanie ogólne moczu (profil)  NaN     NaN  \n",
       "1  Badanie płynu mózgowo-rdzeniowego  NaN     NaN  "
      ]
     },
     "execution_count": 261,
     "metadata": {},
     "output_type": "execute_result"
    }
   ],
   "source": [
    "import pandas as pd\n",
    "df_ICD9 = pd.read_excel(r'/Users/LILI/Projects/000_procedures/icd-9_pl_cm_v_5.69.xlsx',\n",
    "                        sheet_name='ICD-9_PL', skiprows=[0], dtype=str)\n",
    "\n",
    "df_ICD9.head(2)"
   ]
  },
  {
   "cell_type": "code",
   "execution_count": 263,
   "metadata": {},
   "outputs": [
    {
     "data": {
      "text/html": [
       "<div>\n",
       "<style scoped>\n",
       "    .dataframe tbody tr th:only-of-type {\n",
       "        vertical-align: middle;\n",
       "    }\n",
       "\n",
       "    .dataframe tbody tr th {\n",
       "        vertical-align: top;\n",
       "    }\n",
       "\n",
       "    .dataframe thead th {\n",
       "        text-align: right;\n",
       "    }\n",
       "</style>\n",
       "<table border=\"1\" class=\"dataframe\">\n",
       "  <thead>\n",
       "    <tr style=\"text-align: right;\">\n",
       "      <th></th>\n",
       "      <th>nr</th>\n",
       "      <th>tytuł</th>\n",
       "      <th>nr</th>\n",
       "      <th>tytuł.1</th>\n",
       "      <th>nr.1</th>\n",
       "      <th>tytuł.2</th>\n",
       "      <th>nr.2</th>\n",
       "      <th>tytuł.3</th>\n",
       "    </tr>\n",
       "  </thead>\n",
       "  <tbody>\n",
       "    <tr>\n",
       "      <th>6438</th>\n",
       "      <td>87</td>\n",
       "      <td>Diagnostyczne badania radiologiczne</td>\n",
       "      <td>87.4</td>\n",
       "      <td>Inne badania rtg klatki piersiowej</td>\n",
       "      <td>87.44</td>\n",
       "      <td>Rutynowe zdjęcie RTG klatki piersiowej</td>\n",
       "      <td>87.440</td>\n",
       "      <td>RTG klatki piersiowej</td>\n",
       "    </tr>\n",
       "  </tbody>\n",
       "</table>\n",
       "</div>"
      ],
      "text/plain": [
       "     nr                                 tytuł    nr  \\\n",
       "6438  87  Diagnostyczne badania radiologiczne  87.4   \n",
       "\n",
       "                                 tytuł.1   nr.1  \\\n",
       "6438  Inne badania rtg klatki piersiowej  87.44   \n",
       "\n",
       "                                     tytuł.2    nr.2                tytuł.3  \n",
       "6438  Rutynowe zdjęcie RTG klatki piersiowej  87.440  RTG klatki piersiowej  "
      ]
     },
     "execution_count": 263,
     "metadata": {},
     "output_type": "execute_result"
    }
   ],
   "source": [
    "\n",
    "df_ICD9.loc[df_ICD9['tytuł.3']=='RTG klatki piersiowej']"
   ]
  },
  {
   "cell_type": "code",
   "execution_count": 264,
   "metadata": {},
   "outputs": [],
   "source": [
    "df_ICD9.columns = ['ICD-9', 'tytul', 'ICD-9', 'tytul','ICD-9', 'tytul','ICD-9', 'tytul']"
   ]
  },
  {
   "cell_type": "code",
   "execution_count": 265,
   "metadata": {},
   "outputs": [],
   "source": [
    "df_ICD9_1 = df_ICD9.iloc[:,0:2]\n",
    "df_ICD9_2 = df_ICD9.iloc[:,2:4]\n",
    "df_ICD9_3 = df_ICD9.iloc[:,4:6]\n",
    "df_ICD9_4 = df_ICD9.iloc[:,6:]\n",
    "df_ICD9_00 = pd.concat([df_ICD9_1,df_ICD9_2, df_ICD9_3, df_ICD9_4], axis=0)"
   ]
  },
  {
   "cell_type": "code",
   "execution_count": 266,
   "metadata": {},
   "outputs": [
    {
     "data": {
      "text/html": [
       "<div>\n",
       "<style scoped>\n",
       "    .dataframe tbody tr th:only-of-type {\n",
       "        vertical-align: middle;\n",
       "    }\n",
       "\n",
       "    .dataframe tbody tr th {\n",
       "        vertical-align: top;\n",
       "    }\n",
       "\n",
       "    .dataframe thead th {\n",
       "        text-align: right;\n",
       "    }\n",
       "</style>\n",
       "<table border=\"1\" class=\"dataframe\">\n",
       "  <thead>\n",
       "    <tr style=\"text-align: right;\">\n",
       "      <th></th>\n",
       "      <th>ICD-9</th>\n",
       "      <th>tytul</th>\n",
       "    </tr>\n",
       "  </thead>\n",
       "  <tbody>\n",
       "    <tr>\n",
       "      <th>3605</th>\n",
       "      <td>48.493</td>\n",
       "      <td>Operacja Swensona</td>\n",
       "    </tr>\n",
       "  </tbody>\n",
       "</table>\n",
       "</div>"
      ],
      "text/plain": [
       "       ICD-9              tytul\n",
       "3605  48.493  Operacja Swensona"
      ]
     },
     "execution_count": 266,
     "metadata": {},
     "output_type": "execute_result"
    }
   ],
   "source": [
    "\n",
    "df_ICD9_00.loc[df_ICD9_00['tytul']=='Operacja Swensona']"
   ]
  },
  {
   "cell_type": "code",
   "execution_count": 267,
   "metadata": {},
   "outputs": [],
   "source": [
    "df_ICD9_00.dropna(inplace=True)"
   ]
  },
  {
   "cell_type": "code",
   "execution_count": 268,
   "metadata": {},
   "outputs": [],
   "source": [
    "\n",
    "df_ICD9_00.drop_duplicates(inplace=True)"
   ]
  },
  {
   "cell_type": "code",
   "execution_count": 269,
   "metadata": {},
   "outputs": [
    {
     "name": "stderr",
     "output_type": "stream",
     "text": [
      "/var/folders/3s/gg9yq6ys0wb0s7vlvmf5xvkw0000gn/T/ipykernel_5761/2375320560.py:2: SettingWithCopyWarning: \n",
      "A value is trying to be set on a copy of a slice from a DataFrame.\n",
      "Try using .loc[row_indexer,col_indexer] = value instead\n",
      "\n",
      "See the caveats in the documentation: https://pandas.pydata.org/pandas-docs/stable/user_guide/indexing.html#returning-a-view-versus-a-copy\n",
      "  df_2021['ICD-9'] = df_2021['ICD-9'].values.astype(str)\n"
     ]
    }
   ],
   "source": [
    "df_ICD9_00['ICD-9']=df_ICD9_00['ICD-9'].values.astype(str)\n",
    "df_2021['ICD-9'] = df_2021['ICD-9'].values.astype(str)"
   ]
  },
  {
   "cell_type": "code",
   "execution_count": 270,
   "metadata": {},
   "outputs": [
    {
     "name": "stderr",
     "output_type": "stream",
     "text": [
      "/var/folders/3s/gg9yq6ys0wb0s7vlvmf5xvkw0000gn/T/ipykernel_5761/1148688142.py:2: SettingWithCopyWarning: \n",
      "A value is trying to be set on a copy of a slice from a DataFrame.\n",
      "Try using .loc[row_indexer,col_indexer] = value instead\n",
      "\n",
      "See the caveats in the documentation: https://pandas.pydata.org/pandas-docs/stable/user_guide/indexing.html#returning-a-view-versus-a-copy\n",
      "  df_2021['ICD-9'] = df_2021['ICD-9'].str.strip()\n"
     ]
    }
   ],
   "source": [
    "df_ICD9_00['ICD-9'] = df_ICD9_00['ICD-9'].str.strip()\n",
    "df_2021['ICD-9'] = df_2021['ICD-9'].str.strip()"
   ]
  },
  {
   "cell_type": "code",
   "execution_count": 209,
   "metadata": {},
   "outputs": [
    {
     "data": {
      "text/html": [
       "<div>\n",
       "<style scoped>\n",
       "    .dataframe tbody tr th:only-of-type {\n",
       "        vertical-align: middle;\n",
       "    }\n",
       "\n",
       "    .dataframe tbody tr th {\n",
       "        vertical-align: top;\n",
       "    }\n",
       "\n",
       "    .dataframe thead th {\n",
       "        text-align: right;\n",
       "    }\n",
       "</style>\n",
       "<table border=\"1\" class=\"dataframe\">\n",
       "  <thead>\n",
       "    <tr style=\"text-align: right;\">\n",
       "      <th></th>\n",
       "      <th>ICD-9</th>\n",
       "      <th>tytul</th>\n",
       "    </tr>\n",
       "  </thead>\n",
       "  <tbody>\n",
       "  </tbody>\n",
       "</table>\n",
       "</div>"
      ],
      "text/plain": [
       "Empty DataFrame\n",
       "Columns: [ICD-9, tytul]\n",
       "Index: []"
      ]
     },
     "execution_count": 209,
     "metadata": {},
     "output_type": "execute_result"
    }
   ],
   "source": [
    "df_ICD9_00[df_ICD9_00['ICD-9']=='48%']"
   ]
  },
  {
   "cell_type": "code",
   "execution_count": 221,
   "metadata": {},
   "outputs": [
    {
     "data": {
      "text/html": [
       "<div>\n",
       "<style scoped>\n",
       "    .dataframe tbody tr th:only-of-type {\n",
       "        vertical-align: middle;\n",
       "    }\n",
       "\n",
       "    .dataframe tbody tr th {\n",
       "        vertical-align: top;\n",
       "    }\n",
       "\n",
       "    .dataframe thead th {\n",
       "        text-align: right;\n",
       "    }\n",
       "</style>\n",
       "<table border=\"1\" class=\"dataframe\">\n",
       "  <thead>\n",
       "    <tr style=\"text-align: right;\">\n",
       "      <th></th>\n",
       "      <th>ICD-9</th>\n",
       "      <th>tytul</th>\n",
       "    </tr>\n",
       "  </thead>\n",
       "  <tbody>\n",
       "    <tr>\n",
       "      <th>7154</th>\n",
       "      <td>93</td>\n",
       "      <td>Fizykoterapia, respiratoroterapia, rehabilitac...</td>\n",
       "    </tr>\n",
       "    <tr>\n",
       "      <th>7154</th>\n",
       "      <td>93.0</td>\n",
       "      <td>Diagnostyka fizjoterapeutyczna</td>\n",
       "    </tr>\n",
       "    <tr>\n",
       "      <th>7177</th>\n",
       "      <td>93.1</td>\n",
       "      <td>Kinezyterapia</td>\n",
       "    </tr>\n",
       "    <tr>\n",
       "      <th>7222</th>\n",
       "      <td>93.2</td>\n",
       "      <td>Inne zabiegi fizjoterapeutyczne w zakresie ukl...</td>\n",
       "    </tr>\n",
       "    <tr>\n",
       "      <th>7231</th>\n",
       "      <td>93.2</td>\n",
       "      <td>Inne manualne zabiegi fizykoterapeutyczne w za...</td>\n",
       "    </tr>\n",
       "    <tr>\n",
       "      <th>...</th>\n",
       "      <td>...</td>\n",
       "      <td>...</td>\n",
       "    </tr>\n",
       "    <tr>\n",
       "      <th>7483</th>\n",
       "      <td>93.95</td>\n",
       "      <td>Oksygenacja hiperbaryczna</td>\n",
       "    </tr>\n",
       "    <tr>\n",
       "      <th>7484</th>\n",
       "      <td>93.96</td>\n",
       "      <td>Tlenoterapia - inne</td>\n",
       "    </tr>\n",
       "    <tr>\n",
       "      <th>7488</th>\n",
       "      <td>93.97</td>\n",
       "      <td>Komora dekompresyjna</td>\n",
       "    </tr>\n",
       "    <tr>\n",
       "      <th>7489</th>\n",
       "      <td>93.98</td>\n",
       "      <td>Kontrola ciśnienia/składu powietrza</td>\n",
       "    </tr>\n",
       "    <tr>\n",
       "      <th>7493</th>\n",
       "      <td>93.99</td>\n",
       "      <td>Respiratoroterapia - inne</td>\n",
       "    </tr>\n",
       "  </tbody>\n",
       "</table>\n",
       "<p>94 rows × 2 columns</p>\n",
       "</div>"
      ],
      "text/plain": [
       "      ICD-9                                              tytul\n",
       "7154     93  Fizykoterapia, respiratoroterapia, rehabilitac...\n",
       "7154   93.0                     Diagnostyka fizjoterapeutyczna\n",
       "7177   93.1                                      Kinezyterapia\n",
       "7222   93.2  Inne zabiegi fizjoterapeutyczne w zakresie ukl...\n",
       "7231   93.2  Inne manualne zabiegi fizykoterapeutyczne w za...\n",
       "...     ...                                                ...\n",
       "7483  93.95                          Oksygenacja hiperbaryczna\n",
       "7484  93.96                                Tlenoterapia - inne\n",
       "7488  93.97                               Komora dekompresyjna\n",
       "7489  93.98                Kontrola ciśnienia/składu powietrza\n",
       "7493  93.99                          Respiratoroterapia - inne\n",
       "\n",
       "[94 rows x 2 columns]"
      ]
     },
     "execution_count": 221,
     "metadata": {},
     "output_type": "execute_result"
    }
   ],
   "source": [
    "df_ICD9_00.loc[df_ICD9_00['ICD-9'].str.startswith('93', na=False)]"
   ]
  },
  {
   "cell_type": "code",
   "execution_count": 271,
   "metadata": {},
   "outputs": [
    {
     "data": {
      "text/html": [
       "<div>\n",
       "<style scoped>\n",
       "    .dataframe tbody tr th:only-of-type {\n",
       "        vertical-align: middle;\n",
       "    }\n",
       "\n",
       "    .dataframe tbody tr th {\n",
       "        vertical-align: top;\n",
       "    }\n",
       "\n",
       "    .dataframe thead th {\n",
       "        text-align: right;\n",
       "    }\n",
       "</style>\n",
       "<table border=\"1\" class=\"dataframe\">\n",
       "  <thead>\n",
       "    <tr style=\"text-align: right;\">\n",
       "      <th></th>\n",
       "      <th>ICD-9</th>\n",
       "      <th>tytul</th>\n",
       "    </tr>\n",
       "  </thead>\n",
       "  <tbody>\n",
       "    <tr>\n",
       "      <th>6438</th>\n",
       "      <td>87.440</td>\n",
       "      <td>RTG klatki piersiowej</td>\n",
       "    </tr>\n",
       "  </tbody>\n",
       "</table>\n",
       "</div>"
      ],
      "text/plain": [
       "       ICD-9                  tytul\n",
       "6438  87.440  RTG klatki piersiowej"
      ]
     },
     "execution_count": 271,
     "metadata": {},
     "output_type": "execute_result"
    }
   ],
   "source": [
    "df_ICD9_00.loc[df_ICD9_00['tytul']=='RTG klatki piersiowej']"
   ]
  },
  {
   "attachments": {},
   "cell_type": "markdown",
   "metadata": {},
   "source": [
    "### MERGE WITH THe MAIN SOURCE\n"
   ]
  },
  {
   "cell_type": "code",
   "execution_count": 117,
   "metadata": {},
   "outputs": [
    {
     "data": {
      "text/html": [
       "<div>\n",
       "<style scoped>\n",
       "    .dataframe tbody tr th:only-of-type {\n",
       "        vertical-align: middle;\n",
       "    }\n",
       "\n",
       "    .dataframe tbody tr th {\n",
       "        vertical-align: top;\n",
       "    }\n",
       "\n",
       "    .dataframe thead th {\n",
       "        text-align: right;\n",
       "    }\n",
       "</style>\n",
       "<table border=\"1\" class=\"dataframe\">\n",
       "  <thead>\n",
       "    <tr style=\"text-align: right;\">\n",
       "      <th></th>\n",
       "      <th>rok</th>\n",
       "      <th>NIP</th>\n",
       "      <th>JDG</th>\n",
       "      <th>ICD-9</th>\n",
       "    </tr>\n",
       "  </thead>\n",
       "  <tbody>\n",
       "    <tr>\n",
       "      <th>22511207</th>\n",
       "      <td>2021</td>\n",
       "      <td>5422529292</td>\n",
       "      <td>5.51.01.0008032</td>\n",
       "      <td>77.67</td>\n",
       "    </tr>\n",
       "    <tr>\n",
       "      <th>22511208</th>\n",
       "      <td>2021</td>\n",
       "      <td>5422529292</td>\n",
       "      <td>5.51.01.0008032</td>\n",
       "      <td>78.627</td>\n",
       "    </tr>\n",
       "    <tr>\n",
       "      <th>22511209</th>\n",
       "      <td>2021</td>\n",
       "      <td>5422529292</td>\n",
       "      <td>5.51.01.0008032</td>\n",
       "      <td>100.01</td>\n",
       "    </tr>\n",
       "    <tr>\n",
       "      <th>22511210</th>\n",
       "      <td>2021</td>\n",
       "      <td>5422534063</td>\n",
       "      <td>5.51.01.0018074</td>\n",
       "      <td>A01</td>\n",
       "    </tr>\n",
       "    <tr>\n",
       "      <th>22511211</th>\n",
       "      <td>2021</td>\n",
       "      <td>5422534063</td>\n",
       "      <td>5.51.01.0018074</td>\n",
       "      <td>N45</td>\n",
       "    </tr>\n",
       "  </tbody>\n",
       "</table>\n",
       "</div>"
      ],
      "text/plain": [
       "           rok         NIP               JDG     ICD-9\n",
       "22511207  2021  5422529292  5.51.01.0008032   77.67   \n",
       "22511208  2021  5422529292  5.51.01.0008032   78.627  \n",
       "22511209  2021  5422529292  5.51.01.0008032   100.01  \n",
       "22511210  2021  5422534063  5.51.01.0018074   A01     \n",
       "22511211  2021  5422534063  5.51.01.0018074   N45     "
      ]
     },
     "execution_count": 117,
     "metadata": {},
     "output_type": "execute_result"
    }
   ],
   "source": [
    "df_2021.head()"
   ]
  },
  {
   "cell_type": "code",
   "execution_count": 272,
   "metadata": {},
   "outputs": [],
   "source": [
    "df_2021_id = df_2021.merge(df_ICD9_00, on='ICD-9', how='left',indicator=True )"
   ]
  },
  {
   "cell_type": "code",
   "execution_count": 273,
   "metadata": {},
   "outputs": [
    {
     "data": {
      "text/html": [
       "<div>\n",
       "<style scoped>\n",
       "    .dataframe tbody tr th:only-of-type {\n",
       "        vertical-align: middle;\n",
       "    }\n",
       "\n",
       "    .dataframe tbody tr th {\n",
       "        vertical-align: top;\n",
       "    }\n",
       "\n",
       "    .dataframe thead th {\n",
       "        text-align: right;\n",
       "    }\n",
       "</style>\n",
       "<table border=\"1\" class=\"dataframe\">\n",
       "  <thead>\n",
       "    <tr style=\"text-align: right;\">\n",
       "      <th></th>\n",
       "      <th>rok</th>\n",
       "      <th>NIP</th>\n",
       "      <th>JDG</th>\n",
       "      <th>ICD-9</th>\n",
       "      <th>tytul</th>\n",
       "      <th>_merge</th>\n",
       "    </tr>\n",
       "  </thead>\n",
       "  <tbody>\n",
       "    <tr>\n",
       "      <th>1387105</th>\n",
       "      <td>2021</td>\n",
       "      <td>5732299604</td>\n",
       "      <td>5.51.01.0011106</td>\n",
       "      <td>90.52</td>\n",
       "      <td>Mikroskopowe badanie krwi -posiew</td>\n",
       "      <td>both</td>\n",
       "    </tr>\n",
       "    <tr>\n",
       "      <th>3182170</th>\n",
       "      <td>2021</td>\n",
       "      <td>8981816856</td>\n",
       "      <td>5.51.01.0001011</td>\n",
       "      <td>88.721</td>\n",
       "      <td>Echokardiografia</td>\n",
       "      <td>both</td>\n",
       "    </tr>\n",
       "    <tr>\n",
       "      <th>1095438</th>\n",
       "      <td>2021</td>\n",
       "      <td>7542563619</td>\n",
       "      <td>5.51.01.0004007</td>\n",
       "      <td>L31</td>\n",
       "      <td>Gamma glutamylotranspeptydaza (GGTP)</td>\n",
       "      <td>both</td>\n",
       "    </tr>\n",
       "    <tr>\n",
       "      <th>3466087</th>\n",
       "      <td>2021</td>\n",
       "      <td>6771694570</td>\n",
       "      <td>5.51.01.0004002</td>\n",
       "      <td>L95</td>\n",
       "      <td>Immunoglobuliny M (IgM)</td>\n",
       "      <td>both</td>\n",
       "    </tr>\n",
       "    <tr>\n",
       "      <th>4168141</th>\n",
       "      <td>2021</td>\n",
       "      <td>9591291292</td>\n",
       "      <td>5.51.01.0004028</td>\n",
       "      <td>I77</td>\n",
       "      <td>Białko całkowite</td>\n",
       "      <td>both</td>\n",
       "    </tr>\n",
       "    <tr>\n",
       "      <th>142290</th>\n",
       "      <td>2021</td>\n",
       "      <td>1132393221</td>\n",
       "      <td>5.51.01.0017004</td>\n",
       "      <td>79.35</td>\n",
       "      <td>Otwarte nastawienie złamania z wewnętrzną stab...</td>\n",
       "      <td>both</td>\n",
       "    </tr>\n",
       "    <tr>\n",
       "      <th>5737397</th>\n",
       "      <td>2021</td>\n",
       "      <td>8512543558</td>\n",
       "      <td>5.51.01.0004055</td>\n",
       "      <td>89.71</td>\n",
       "      <td>Ocena stanu pacjenta w celu ustalenia postępow...</td>\n",
       "      <td>both</td>\n",
       "    </tr>\n",
       "    <tr>\n",
       "      <th>1183836</th>\n",
       "      <td>2021</td>\n",
       "      <td>6262511259</td>\n",
       "      <td>5.51.01.0004016</td>\n",
       "      <td>87.440</td>\n",
       "      <td>RTG klatki piersiowej</td>\n",
       "      <td>both</td>\n",
       "    </tr>\n",
       "    <tr>\n",
       "      <th>317601</th>\n",
       "      <td>2021</td>\n",
       "      <td>5220002529</td>\n",
       "      <td>5.51.01.0007016</td>\n",
       "      <td>O43</td>\n",
       "      <td>Transferyna</td>\n",
       "      <td>both</td>\n",
       "    </tr>\n",
       "    <tr>\n",
       "      <th>1446528</th>\n",
       "      <td>2021</td>\n",
       "      <td>9542270611</td>\n",
       "      <td>5.51.01.0006110</td>\n",
       "      <td>31.2</td>\n",
       "      <td>Stała tracheostomia</td>\n",
       "      <td>both</td>\n",
       "    </tr>\n",
       "  </tbody>\n",
       "</table>\n",
       "</div>"
      ],
      "text/plain": [
       "          rok         NIP               JDG   ICD-9  \\\n",
       "1387105  2021  5732299604  5.51.01.0011106    90.52   \n",
       "3182170  2021  8981816856  5.51.01.0001011   88.721   \n",
       "1095438  2021  7542563619  5.51.01.0004007      L31   \n",
       "3466087  2021  6771694570  5.51.01.0004002      L95   \n",
       "4168141  2021  9591291292  5.51.01.0004028      I77   \n",
       "142290   2021  1132393221  5.51.01.0017004    79.35   \n",
       "5737397  2021  8512543558  5.51.01.0004055    89.71   \n",
       "1183836  2021  6262511259  5.51.01.0004016   87.440   \n",
       "317601   2021  5220002529  5.51.01.0007016      O43   \n",
       "1446528  2021  9542270611  5.51.01.0006110     31.2   \n",
       "\n",
       "                                                     tytul _merge  \n",
       "1387105                 Mikroskopowe badanie krwi -posiew    both  \n",
       "3182170                                   Echokardiografia   both  \n",
       "1095438               Gamma glutamylotranspeptydaza (GGTP)   both  \n",
       "3466087                            Immunoglobuliny M (IgM)   both  \n",
       "4168141                                   Białko całkowite   both  \n",
       "142290   Otwarte nastawienie złamania z wewnętrzną stab...   both  \n",
       "5737397  Ocena stanu pacjenta w celu ustalenia postępow...   both  \n",
       "1183836                              RTG klatki piersiowej   both  \n",
       "317601                                         Transferyna   both  \n",
       "1446528                                Stała tracheostomia   both  "
      ]
     },
     "execution_count": 273,
     "metadata": {},
     "output_type": "execute_result"
    }
   ],
   "source": [
    "df_2021_id.sample(10)"
   ]
  },
  {
   "cell_type": "markdown",
   "metadata": {},
   "source": [
    "### Data Quality Check "
   ]
  },
  {
   "cell_type": "code",
   "execution_count": 274,
   "metadata": {},
   "outputs": [
    {
     "data": {
      "text/html": [
       "<div>\n",
       "<style scoped>\n",
       "    .dataframe tbody tr th:only-of-type {\n",
       "        vertical-align: middle;\n",
       "    }\n",
       "\n",
       "    .dataframe tbody tr th {\n",
       "        vertical-align: top;\n",
       "    }\n",
       "\n",
       "    .dataframe thead th {\n",
       "        text-align: right;\n",
       "    }\n",
       "</style>\n",
       "<table border=\"1\" class=\"dataframe\">\n",
       "  <thead>\n",
       "    <tr style=\"text-align: right;\">\n",
       "      <th></th>\n",
       "      <th>rok</th>\n",
       "      <th>NIP</th>\n",
       "      <th>JDG</th>\n",
       "      <th>ICD-9</th>\n",
       "      <th>tytul</th>\n",
       "      <th>_merge</th>\n",
       "    </tr>\n",
       "  </thead>\n",
       "  <tbody>\n",
       "    <tr>\n",
       "      <th>130794</th>\n",
       "      <td>2021</td>\n",
       "      <td>9661319909</td>\n",
       "      <td>5.51.01.0015066</td>\n",
       "      <td>96.591</td>\n",
       "      <td>NaN</td>\n",
       "      <td>left_only</td>\n",
       "    </tr>\n",
       "    <tr>\n",
       "      <th>397710</th>\n",
       "      <td>2021</td>\n",
       "      <td>1181349898</td>\n",
       "      <td>5.51.01.0014035</td>\n",
       "      <td>87.166</td>\n",
       "      <td>NaN</td>\n",
       "      <td>left_only</td>\n",
       "    </tr>\n",
       "    <tr>\n",
       "      <th>623332</th>\n",
       "      <td>2021</td>\n",
       "      <td>1181349898</td>\n",
       "      <td>5.51.01.0018007</td>\n",
       "      <td>87.162</td>\n",
       "      <td>NaN</td>\n",
       "      <td>left_only</td>\n",
       "    </tr>\n",
       "    <tr>\n",
       "      <th>1011978</th>\n",
       "      <td>2021</td>\n",
       "      <td>8371507803</td>\n",
       "      <td>5.51.01.0004018</td>\n",
       "      <td>87.494</td>\n",
       "      <td>NaN</td>\n",
       "      <td>left_only</td>\n",
       "    </tr>\n",
       "    <tr>\n",
       "      <th>2645401</th>\n",
       "      <td>2021</td>\n",
       "      <td>7123194985</td>\n",
       "      <td>5.51.01.0004003</td>\n",
       "      <td>87.493</td>\n",
       "      <td>NaN</td>\n",
       "      <td>left_only</td>\n",
       "    </tr>\n",
       "    <tr>\n",
       "      <th>4604413</th>\n",
       "      <td>2021</td>\n",
       "      <td>6572195982</td>\n",
       "      <td>5.51.01.0001059</td>\n",
       "      <td>87.163</td>\n",
       "      <td>NaN</td>\n",
       "      <td>left_only</td>\n",
       "    </tr>\n",
       "    <tr>\n",
       "      <th>4609846</th>\n",
       "      <td>2021</td>\n",
       "      <td>6572195982</td>\n",
       "      <td>5.51.01.0005094</td>\n",
       "      <td>87.163</td>\n",
       "      <td>NaN</td>\n",
       "      <td>left_only</td>\n",
       "    </tr>\n",
       "  </tbody>\n",
       "</table>\n",
       "</div>"
      ],
      "text/plain": [
       "          rok         NIP               JDG   ICD-9 tytul     _merge\n",
       "130794   2021  9661319909  5.51.01.0015066   96.591   NaN  left_only\n",
       "397710   2021  1181349898  5.51.01.0014035   87.166   NaN  left_only\n",
       "623332   2021  1181349898  5.51.01.0018007   87.162   NaN  left_only\n",
       "1011978  2021  8371507803  5.51.01.0004018   87.494   NaN  left_only\n",
       "2645401  2021  7123194985  5.51.01.0004003   87.493   NaN  left_only\n",
       "4604413  2021  6572195982  5.51.01.0001059   87.163   NaN  left_only\n",
       "4609846  2021  6572195982  5.51.01.0005094   87.163   NaN  left_only"
      ]
     },
     "execution_count": 274,
     "metadata": {},
     "output_type": "execute_result"
    }
   ],
   "source": [
    "df_2021_id[df_2021_id._merge == 'left_only']"
   ]
  },
  {
   "cell_type": "code",
   "execution_count": 275,
   "metadata": {},
   "outputs": [
    {
     "data": {
      "text/plain": [
       "6"
      ]
     },
     "execution_count": 275,
     "metadata": {},
     "output_type": "execute_result"
    }
   ],
   "source": [
    "len(set(df_2021_id[df_2021_id._merge == 'left_only']['ICD-9']))"
   ]
  },
  {
   "attachments": {},
   "cell_type": "markdown",
   "metadata": {},
   "source": [
    "### Data Overview - first impressions"
   ]
  },
  {
   "cell_type": "markdown",
   "metadata": {},
   "source": [
    "Najczesciej wykonywane procedury w 2021 roku."
   ]
  },
  {
   "cell_type": "code",
   "execution_count": 283,
   "metadata": {},
   "outputs": [
    {
     "data": {
      "text/plain": [
       "ICD-9   tytul                                                         \n",
       "89.00   Porada lekarska, konsultacja, asysta                              91914\n",
       "89.04   Opieka pielęgniarki lub położnej                                  87826\n",
       "M37     Kreatynina                                                        82407\n",
       "L43     Glukoza z krwi żylnej                                             77490\n",
       "I81     Białko C-reaktywne (CRP)                                          77040\n",
       "O35     Sód (Na)                                                          76137\n",
       "N45     Potas (K)                                                         73912\n",
       "G21     Czas protrombinowy (PT)                                           73024\n",
       "G11     Czas częściowej tromboplastyny po aktywacji (APTT)                71820\n",
       "87.440  RTG klatki piersiowej                                             71815\n",
       "N13     Mocznik                                                           66672\n",
       "89.522  Elektrokardiografia z 12 lub więcej odprowadzeniami (z opisem)    63296\n",
       "I17     Aminotransferaza alaninowa (ALT)                                  62838\n",
       "I19     Aminotransferaza asparaginianowa (AST)                            61682\n",
       "A01     Badanie ogólne moczu (profil)                                     61127\n",
       "C55     Morfologia krwi, z pełnym różnicowaniem granulocytów              61007\n",
       "88.761  USG brzucha i przestrzeni zaotrzewnowej                           57596\n",
       "89.61   Monitorowanie systemowego ciśnienia tętniczego                    53792\n",
       "I89     Bilirubina całkowita                                              53438\n",
       "L69     Hormon tyreotropowy (TSH)                                         52996\n",
       "dtype: int64"
      ]
     },
     "execution_count": 283,
     "metadata": {},
     "output_type": "execute_result"
    }
   ],
   "source": [
    "df_2021_id[['ICD-9','tytul']].value_counts().head(20)"
   ]
  },
  {
   "attachments": {},
   "cell_type": "markdown",
   "metadata": {},
   "source": [
    "Mozna analizowac to z NIPem.\n",
    "mozna policzyc ile porad przypada na badanie"
   ]
  },
  {
   "cell_type": "markdown",
   "metadata": {},
   "source": []
  }
 ],
 "metadata": {
  "kernelspec": {
   "display_name": "py39",
   "language": "python",
   "name": "python3"
  },
  "language_info": {
   "codemirror_mode": {
    "name": "ipython",
    "version": 3
   },
   "file_extension": ".py",
   "mimetype": "text/x-python",
   "name": "python",
   "nbconvert_exporter": "python",
   "pygments_lexer": "ipython3",
   "version": "3.9.13"
  },
  "orig_nbformat": 4,
  "vscode": {
   "interpreter": {
    "hash": "34d53bfbed14dbd3c5f5ebfb55b33377154c6d087292b3c9075ad59238d5c0bc"
   }
  }
 },
 "nbformat": 4,
 "nbformat_minor": 2
}
